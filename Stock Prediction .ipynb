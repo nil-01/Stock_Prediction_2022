{
 "cells": [
  {
   "cell_type": "code",
   "execution_count": 5,
   "id": "a2dbadc9",
   "metadata": {},
   "outputs": [],
   "source": [
    "import numpy as np\n",
    "import pandas as pd\n",
    "import matplotlib.pyplot as plt\n",
    "import pandas_datareader as data"
   ]
  },
  {
   "cell_type": "code",
   "execution_count": 6,
   "id": "4a6da145",
   "metadata": {},
   "outputs": [
    {
     "data": {
      "text/html": [
       "<div>\n",
       "<style scoped>\n",
       "    .dataframe tbody tr th:only-of-type {\n",
       "        vertical-align: middle;\n",
       "    }\n",
       "\n",
       "    .dataframe tbody tr th {\n",
       "        vertical-align: top;\n",
       "    }\n",
       "\n",
       "    .dataframe thead th {\n",
       "        text-align: right;\n",
       "    }\n",
       "</style>\n",
       "<table border=\"1\" class=\"dataframe\">\n",
       "  <thead>\n",
       "    <tr style=\"text-align: right;\">\n",
       "      <th></th>\n",
       "      <th>High</th>\n",
       "      <th>Low</th>\n",
       "      <th>Open</th>\n",
       "      <th>Close</th>\n",
       "      <th>Volume</th>\n",
       "      <th>Adj Close</th>\n",
       "    </tr>\n",
       "    <tr>\n",
       "      <th>Date</th>\n",
       "      <th></th>\n",
       "      <th></th>\n",
       "      <th></th>\n",
       "      <th></th>\n",
       "      <th></th>\n",
       "      <th></th>\n",
       "    </tr>\n",
       "  </thead>\n",
       "  <tbody>\n",
       "    <tr>\n",
       "      <th>2001-01-02</th>\n",
       "      <td>0.272321</td>\n",
       "      <td>0.260045</td>\n",
       "      <td>0.265625</td>\n",
       "      <td>0.265625</td>\n",
       "      <td>452312000.0</td>\n",
       "      <td>0.227114</td>\n",
       "    </tr>\n",
       "    <tr>\n",
       "      <th>2001-01-03</th>\n",
       "      <td>0.297991</td>\n",
       "      <td>0.257813</td>\n",
       "      <td>0.258929</td>\n",
       "      <td>0.292411</td>\n",
       "      <td>817073600.0</td>\n",
       "      <td>0.250017</td>\n",
       "    </tr>\n",
       "    <tr>\n",
       "      <th>2001-01-04</th>\n",
       "      <td>0.330357</td>\n",
       "      <td>0.300223</td>\n",
       "      <td>0.323940</td>\n",
       "      <td>0.304688</td>\n",
       "      <td>739396000.0</td>\n",
       "      <td>0.260514</td>\n",
       "    </tr>\n",
       "    <tr>\n",
       "      <th>2001-01-05</th>\n",
       "      <td>0.310268</td>\n",
       "      <td>0.286830</td>\n",
       "      <td>0.302455</td>\n",
       "      <td>0.292411</td>\n",
       "      <td>412356000.0</td>\n",
       "      <td>0.250017</td>\n",
       "    </tr>\n",
       "    <tr>\n",
       "      <th>2001-01-08</th>\n",
       "      <td>0.303292</td>\n",
       "      <td>0.284598</td>\n",
       "      <td>0.302455</td>\n",
       "      <td>0.295759</td>\n",
       "      <td>373699200.0</td>\n",
       "      <td>0.252879</td>\n",
       "    </tr>\n",
       "  </tbody>\n",
       "</table>\n",
       "</div>"
      ],
      "text/plain": [
       "                High       Low      Open     Close       Volume  Adj Close\n",
       "Date                                                                      \n",
       "2001-01-02  0.272321  0.260045  0.265625  0.265625  452312000.0   0.227114\n",
       "2001-01-03  0.297991  0.257813  0.258929  0.292411  817073600.0   0.250017\n",
       "2001-01-04  0.330357  0.300223  0.323940  0.304688  739396000.0   0.260514\n",
       "2001-01-05  0.310268  0.286830  0.302455  0.292411  412356000.0   0.250017\n",
       "2001-01-08  0.303292  0.284598  0.302455  0.295759  373699200.0   0.252879"
      ]
     },
     "execution_count": 6,
     "metadata": {},
     "output_type": "execute_result"
    }
   ],
   "source": [
    "start='2001-1-1'\n",
    "\n",
    "end='2022-2-2'\n",
    "\n",
    "df=data.DataReader('AAPL','yahoo',start,end)\n",
    "df.head()"
   ]
  },
  {
   "cell_type": "code",
   "execution_count": 7,
   "id": "7e73254b",
   "metadata": {},
   "outputs": [
    {
     "data": {
      "text/html": [
       "<div>\n",
       "<style scoped>\n",
       "    .dataframe tbody tr th:only-of-type {\n",
       "        vertical-align: middle;\n",
       "    }\n",
       "\n",
       "    .dataframe tbody tr th {\n",
       "        vertical-align: top;\n",
       "    }\n",
       "\n",
       "    .dataframe thead th {\n",
       "        text-align: right;\n",
       "    }\n",
       "</style>\n",
       "<table border=\"1\" class=\"dataframe\">\n",
       "  <thead>\n",
       "    <tr style=\"text-align: right;\">\n",
       "      <th></th>\n",
       "      <th>High</th>\n",
       "      <th>Low</th>\n",
       "      <th>Open</th>\n",
       "      <th>Close</th>\n",
       "      <th>Volume</th>\n",
       "      <th>Adj Close</th>\n",
       "    </tr>\n",
       "    <tr>\n",
       "      <th>Date</th>\n",
       "      <th></th>\n",
       "      <th></th>\n",
       "      <th></th>\n",
       "      <th></th>\n",
       "      <th></th>\n",
       "      <th></th>\n",
       "    </tr>\n",
       "  </thead>\n",
       "  <tbody>\n",
       "    <tr>\n",
       "      <th>2022-01-27</th>\n",
       "      <td>163.839996</td>\n",
       "      <td>158.279999</td>\n",
       "      <td>162.449997</td>\n",
       "      <td>159.220001</td>\n",
       "      <td>121954600.0</td>\n",
       "      <td>158.784119</td>\n",
       "    </tr>\n",
       "    <tr>\n",
       "      <th>2022-01-28</th>\n",
       "      <td>170.350006</td>\n",
       "      <td>162.800003</td>\n",
       "      <td>165.710007</td>\n",
       "      <td>170.330002</td>\n",
       "      <td>179935700.0</td>\n",
       "      <td>169.863693</td>\n",
       "    </tr>\n",
       "    <tr>\n",
       "      <th>2022-01-31</th>\n",
       "      <td>175.000000</td>\n",
       "      <td>169.509995</td>\n",
       "      <td>170.160004</td>\n",
       "      <td>174.779999</td>\n",
       "      <td>115541600.0</td>\n",
       "      <td>174.301514</td>\n",
       "    </tr>\n",
       "    <tr>\n",
       "      <th>2022-02-01</th>\n",
       "      <td>174.839996</td>\n",
       "      <td>172.309998</td>\n",
       "      <td>174.009995</td>\n",
       "      <td>174.610001</td>\n",
       "      <td>86213900.0</td>\n",
       "      <td>174.131973</td>\n",
       "    </tr>\n",
       "    <tr>\n",
       "      <th>2022-02-02</th>\n",
       "      <td>175.880005</td>\n",
       "      <td>173.330002</td>\n",
       "      <td>174.750000</td>\n",
       "      <td>175.839996</td>\n",
       "      <td>84914300.0</td>\n",
       "      <td>175.358612</td>\n",
       "    </tr>\n",
       "  </tbody>\n",
       "</table>\n",
       "</div>"
      ],
      "text/plain": [
       "                  High         Low        Open       Close       Volume  \\\n",
       "Date                                                                      \n",
       "2022-01-27  163.839996  158.279999  162.449997  159.220001  121954600.0   \n",
       "2022-01-28  170.350006  162.800003  165.710007  170.330002  179935700.0   \n",
       "2022-01-31  175.000000  169.509995  170.160004  174.779999  115541600.0   \n",
       "2022-02-01  174.839996  172.309998  174.009995  174.610001   86213900.0   \n",
       "2022-02-02  175.880005  173.330002  174.750000  175.839996   84914300.0   \n",
       "\n",
       "             Adj Close  \n",
       "Date                    \n",
       "2022-01-27  158.784119  \n",
       "2022-01-28  169.863693  \n",
       "2022-01-31  174.301514  \n",
       "2022-02-01  174.131973  \n",
       "2022-02-02  175.358612  "
      ]
     },
     "execution_count": 7,
     "metadata": {},
     "output_type": "execute_result"
    }
   ],
   "source": [
    "df.tail()"
   ]
  },
  {
   "cell_type": "code",
   "execution_count": 8,
   "id": "06eb4e9e",
   "metadata": {},
   "outputs": [
    {
     "data": {
      "text/html": [
       "<div>\n",
       "<style scoped>\n",
       "    .dataframe tbody tr th:only-of-type {\n",
       "        vertical-align: middle;\n",
       "    }\n",
       "\n",
       "    .dataframe tbody tr th {\n",
       "        vertical-align: top;\n",
       "    }\n",
       "\n",
       "    .dataframe thead th {\n",
       "        text-align: right;\n",
       "    }\n",
       "</style>\n",
       "<table border=\"1\" class=\"dataframe\">\n",
       "  <thead>\n",
       "    <tr style=\"text-align: right;\">\n",
       "      <th></th>\n",
       "      <th>Date</th>\n",
       "      <th>High</th>\n",
       "      <th>Low</th>\n",
       "      <th>Open</th>\n",
       "      <th>Close</th>\n",
       "      <th>Volume</th>\n",
       "      <th>Adj Close</th>\n",
       "    </tr>\n",
       "  </thead>\n",
       "  <tbody>\n",
       "    <tr>\n",
       "      <th>0</th>\n",
       "      <td>2001-01-02</td>\n",
       "      <td>0.272321</td>\n",
       "      <td>0.260045</td>\n",
       "      <td>0.265625</td>\n",
       "      <td>0.265625</td>\n",
       "      <td>452312000.0</td>\n",
       "      <td>0.227114</td>\n",
       "    </tr>\n",
       "    <tr>\n",
       "      <th>1</th>\n",
       "      <td>2001-01-03</td>\n",
       "      <td>0.297991</td>\n",
       "      <td>0.257813</td>\n",
       "      <td>0.258929</td>\n",
       "      <td>0.292411</td>\n",
       "      <td>817073600.0</td>\n",
       "      <td>0.250017</td>\n",
       "    </tr>\n",
       "    <tr>\n",
       "      <th>2</th>\n",
       "      <td>2001-01-04</td>\n",
       "      <td>0.330357</td>\n",
       "      <td>0.300223</td>\n",
       "      <td>0.323940</td>\n",
       "      <td>0.304688</td>\n",
       "      <td>739396000.0</td>\n",
       "      <td>0.260514</td>\n",
       "    </tr>\n",
       "    <tr>\n",
       "      <th>3</th>\n",
       "      <td>2001-01-05</td>\n",
       "      <td>0.310268</td>\n",
       "      <td>0.286830</td>\n",
       "      <td>0.302455</td>\n",
       "      <td>0.292411</td>\n",
       "      <td>412356000.0</td>\n",
       "      <td>0.250017</td>\n",
       "    </tr>\n",
       "    <tr>\n",
       "      <th>4</th>\n",
       "      <td>2001-01-08</td>\n",
       "      <td>0.303292</td>\n",
       "      <td>0.284598</td>\n",
       "      <td>0.302455</td>\n",
       "      <td>0.295759</td>\n",
       "      <td>373699200.0</td>\n",
       "      <td>0.252879</td>\n",
       "    </tr>\n",
       "  </tbody>\n",
       "</table>\n",
       "</div>"
      ],
      "text/plain": [
       "        Date      High       Low      Open     Close       Volume  Adj Close\n",
       "0 2001-01-02  0.272321  0.260045  0.265625  0.265625  452312000.0   0.227114\n",
       "1 2001-01-03  0.297991  0.257813  0.258929  0.292411  817073600.0   0.250017\n",
       "2 2001-01-04  0.330357  0.300223  0.323940  0.304688  739396000.0   0.260514\n",
       "3 2001-01-05  0.310268  0.286830  0.302455  0.292411  412356000.0   0.250017\n",
       "4 2001-01-08  0.303292  0.284598  0.302455  0.295759  373699200.0   0.252879"
      ]
     },
     "execution_count": 8,
     "metadata": {},
     "output_type": "execute_result"
    }
   ],
   "source": [
    "df = df.reset_index()\n",
    "df.head()"
   ]
  },
  {
   "cell_type": "code",
   "execution_count": 9,
   "id": "58ebea1c",
   "metadata": {},
   "outputs": [
    {
     "data": {
      "text/html": [
       "<div>\n",
       "<style scoped>\n",
       "    .dataframe tbody tr th:only-of-type {\n",
       "        vertical-align: middle;\n",
       "    }\n",
       "\n",
       "    .dataframe tbody tr th {\n",
       "        vertical-align: top;\n",
       "    }\n",
       "\n",
       "    .dataframe thead th {\n",
       "        text-align: right;\n",
       "    }\n",
       "</style>\n",
       "<table border=\"1\" class=\"dataframe\">\n",
       "  <thead>\n",
       "    <tr style=\"text-align: right;\">\n",
       "      <th></th>\n",
       "      <th>High</th>\n",
       "      <th>Low</th>\n",
       "      <th>Open</th>\n",
       "      <th>Close</th>\n",
       "      <th>Volume</th>\n",
       "    </tr>\n",
       "  </thead>\n",
       "  <tbody>\n",
       "    <tr>\n",
       "      <th>0</th>\n",
       "      <td>0.272321</td>\n",
       "      <td>0.260045</td>\n",
       "      <td>0.265625</td>\n",
       "      <td>0.265625</td>\n",
       "      <td>452312000.0</td>\n",
       "    </tr>\n",
       "    <tr>\n",
       "      <th>1</th>\n",
       "      <td>0.297991</td>\n",
       "      <td>0.257813</td>\n",
       "      <td>0.258929</td>\n",
       "      <td>0.292411</td>\n",
       "      <td>817073600.0</td>\n",
       "    </tr>\n",
       "    <tr>\n",
       "      <th>2</th>\n",
       "      <td>0.330357</td>\n",
       "      <td>0.300223</td>\n",
       "      <td>0.323940</td>\n",
       "      <td>0.304688</td>\n",
       "      <td>739396000.0</td>\n",
       "    </tr>\n",
       "    <tr>\n",
       "      <th>3</th>\n",
       "      <td>0.310268</td>\n",
       "      <td>0.286830</td>\n",
       "      <td>0.302455</td>\n",
       "      <td>0.292411</td>\n",
       "      <td>412356000.0</td>\n",
       "    </tr>\n",
       "    <tr>\n",
       "      <th>4</th>\n",
       "      <td>0.303292</td>\n",
       "      <td>0.284598</td>\n",
       "      <td>0.302455</td>\n",
       "      <td>0.295759</td>\n",
       "      <td>373699200.0</td>\n",
       "    </tr>\n",
       "  </tbody>\n",
       "</table>\n",
       "</div>"
      ],
      "text/plain": [
       "       High       Low      Open     Close       Volume\n",
       "0  0.272321  0.260045  0.265625  0.265625  452312000.0\n",
       "1  0.297991  0.257813  0.258929  0.292411  817073600.0\n",
       "2  0.330357  0.300223  0.323940  0.304688  739396000.0\n",
       "3  0.310268  0.286830  0.302455  0.292411  412356000.0\n",
       "4  0.303292  0.284598  0.302455  0.295759  373699200.0"
      ]
     },
     "execution_count": 9,
     "metadata": {},
     "output_type": "execute_result"
    }
   ],
   "source": [
    "df=df.drop(['Date','Adj Close'], axis=1)\n",
    "df.head()"
   ]
  },
  {
   "cell_type": "code",
   "execution_count": 11,
   "id": "b8b793a1",
   "metadata": {},
   "outputs": [
    {
     "data": {
      "text/plain": [
       "[<matplotlib.lines.Line2D at 0x219fd728be0>]"
      ]
     },
     "execution_count": 11,
     "metadata": {},
     "output_type": "execute_result"
    },
    {
     "data": {
      "image/png": "[encoded data removed]",
      "text/plain": [
       "<Figure size 432x288 with 1 Axes>"
      ]
     },
     "metadata": {
      "needs_background": "light"
     },
     "output_type": "display_data"
    }
   ],
   "source": [
    "plt.plot(df.Close)"
   ]
  },
  {
   "cell_type": "code",
   "execution_count": 12,
   "id": "98a8d1a3",
   "metadata": {},
   "outputs": [
    {
     "data": {
      "text/html": [
       "<div>\n",
       "<style scoped>\n",
       "    .dataframe tbody tr th:only-of-type {\n",
       "        vertical-align: middle;\n",
       "    }\n",
       "\n",
       "    .dataframe tbody tr th {\n",
       "        vertical-align: top;\n",
       "    }\n",
       "\n",
       "    .dataframe thead th {\n",
       "        text-align: right;\n",
       "    }\n",
       "</style>\n",
       "<table border=\"1\" class=\"dataframe\">\n",
       "  <thead>\n",
       "    <tr style=\"text-align: right;\">\n",
       "      <th></th>\n",
       "      <th>High</th>\n",
       "      <th>Low</th>\n",
       "      <th>Open</th>\n",
       "      <th>Close</th>\n",
       "      <th>Volume</th>\n",
       "    </tr>\n",
       "  </thead>\n",
       "  <tbody>\n",
       "    <tr>\n",
       "      <th>0</th>\n",
       "      <td>0.272321</td>\n",
       "      <td>0.260045</td>\n",
       "      <td>0.265625</td>\n",
       "      <td>0.265625</td>\n",
       "      <td>452312000.0</td>\n",
       "    </tr>\n",
       "    <tr>\n",
       "      <th>1</th>\n",
       "      <td>0.297991</td>\n",
       "      <td>0.257813</td>\n",
       "      <td>0.258929</td>\n",
       "      <td>0.292411</td>\n",
       "      <td>817073600.0</td>\n",
       "    </tr>\n",
       "    <tr>\n",
       "      <th>2</th>\n",
       "      <td>0.330357</td>\n",
       "      <td>0.300223</td>\n",
       "      <td>0.323940</td>\n",
       "      <td>0.304688</td>\n",
       "      <td>739396000.0</td>\n",
       "    </tr>\n",
       "    <tr>\n",
       "      <th>3</th>\n",
       "      <td>0.310268</td>\n",
       "      <td>0.286830</td>\n",
       "      <td>0.302455</td>\n",
       "      <td>0.292411</td>\n",
       "      <td>412356000.0</td>\n",
       "    </tr>\n",
       "    <tr>\n",
       "      <th>4</th>\n",
       "      <td>0.303292</td>\n",
       "      <td>0.284598</td>\n",
       "      <td>0.302455</td>\n",
       "      <td>0.295759</td>\n",
       "      <td>373699200.0</td>\n",
       "    </tr>\n",
       "    <tr>\n",
       "      <th>...</th>\n",
       "      <td>...</td>\n",
       "      <td>...</td>\n",
       "      <td>...</td>\n",
       "      <td>...</td>\n",
       "      <td>...</td>\n",
       "    </tr>\n",
       "    <tr>\n",
       "      <th>5301</th>\n",
       "      <td>163.839996</td>\n",
       "      <td>158.279999</td>\n",
       "      <td>162.449997</td>\n",
       "      <td>159.220001</td>\n",
       "      <td>121954600.0</td>\n",
       "    </tr>\n",
       "    <tr>\n",
       "      <th>5302</th>\n",
       "      <td>170.350006</td>\n",
       "      <td>162.800003</td>\n",
       "      <td>165.710007</td>\n",
       "      <td>170.330002</td>\n",
       "      <td>179935700.0</td>\n",
       "    </tr>\n",
       "    <tr>\n",
       "      <th>5303</th>\n",
       "      <td>175.000000</td>\n",
       "      <td>169.509995</td>\n",
       "      <td>170.160004</td>\n",
       "      <td>174.779999</td>\n",
       "      <td>115541600.0</td>\n",
       "    </tr>\n",
       "    <tr>\n",
       "      <th>5304</th>\n",
       "      <td>174.839996</td>\n",
       "      <td>172.309998</td>\n",
       "      <td>174.009995</td>\n",
       "      <td>174.610001</td>\n",
       "      <td>86213900.0</td>\n",
       "    </tr>\n",
       "    <tr>\n",
       "      <th>5305</th>\n",
       "      <td>175.880005</td>\n",
       "      <td>173.330002</td>\n",
       "      <td>174.750000</td>\n",
       "      <td>175.839996</td>\n",
       "      <td>84914300.0</td>\n",
       "    </tr>\n",
       "  </tbody>\n",
       "</table>\n",
       "<p>5306 rows × 5 columns</p>\n",
       "</div>"
      ],
      "text/plain": [
       "            High         Low        Open       Close       Volume\n",
       "0       0.272321    0.260045    0.265625    0.265625  452312000.0\n",
       "1       0.297991    0.257813    0.258929    0.292411  817073600.0\n",
       "2       0.330357    0.300223    0.323940    0.304688  739396000.0\n",
       "3       0.310268    0.286830    0.302455    0.292411  412356000.0\n",
       "4       0.303292    0.284598    0.302455    0.295759  373699200.0\n",
       "...          ...         ...         ...         ...          ...\n",
       "5301  163.839996  158.279999  162.449997  159.220001  121954600.0\n",
       "5302  170.350006  162.800003  165.710007  170.330002  179935700.0\n",
       "5303  175.000000  169.509995  170.160004  174.779999  115541600.0\n",
       "5304  174.839996  172.309998  174.009995  174.610001   86213900.0\n",
       "5305  175.880005  173.330002  174.750000  175.839996   84914300.0\n",
       "\n",
       "[5306 rows x 5 columns]"
      ]
     },
     "execution_count": 12,
     "metadata": {},
     "output_type": "execute_result"
    }
   ],
   "source": [
    "df\n"
   ]
  },
  {
   "cell_type": "code",
   "execution_count": 13,
   "id": "404f4895",
   "metadata": {},
   "outputs": [
    {
     "data": {
      "text/plain": [
       "0            NaN\n",
       "1            NaN\n",
       "2            NaN\n",
       "3            NaN\n",
       "4            NaN\n",
       "          ...   \n",
       "5301    158.2046\n",
       "5302    158.3410\n",
       "5303    158.5377\n",
       "5304    158.7431\n",
       "5305    159.0118\n",
       "Name: Close, Length: 5306, dtype: float64"
      ]
     },
     "execution_count": 13,
     "metadata": {},
     "output_type": "execute_result"
    }
   ],
   "source": [
    "ma100=df.Close.rolling(100).mean()\n",
    "ma100"
   ]
  },
  {
   "cell_type": "code",
   "execution_count": 14,
   "id": "0701063c",
   "metadata": {},
   "outputs": [
    {
     "data": {
      "text/plain": [
       "[<matplotlib.lines.Line2D at 0x219fd1bf130>]"
      ]
     },
     "execution_count": 14,
     "metadata": {},
     "output_type": "execute_result"
    },
    {
     "data": {
      "image/png": "[encoded data removed]",
      "text/plain": [
       "<Figure size 864x432 with 1 Axes>"
      ]
     },
     "metadata": {
      "needs_background": "light"
     },
     "output_type": "display_data"
    }
   ],
   "source": [
    "plt.figure(figsize=(12,6))\n",
    "plt.plot(df.Close,'b')\n",
    "plt.plot(ma100,'r')"
   ]
  },
  {
   "cell_type": "code",
   "execution_count": 15,
   "id": "619de37f",
   "metadata": {},
   "outputs": [
    {
     "data": {
      "text/plain": [
       "0             NaN\n",
       "1             NaN\n",
       "2             NaN\n",
       "3             NaN\n",
       "4             NaN\n",
       "          ...    \n",
       "5301    147.93765\n",
       "5302    148.11680\n",
       "5303    148.31990\n",
       "5304    148.51875\n",
       "5305    148.73240\n",
       "Name: Close, Length: 5306, dtype: float64"
      ]
     },
     "execution_count": 15,
     "metadata": {},
     "output_type": "execute_result"
    }
   ],
   "source": [
    "ma200=df.Close.rolling(200).mean()\n",
    "ma200"
   ]
  },
  {
   "cell_type": "code",
   "execution_count": 18,
   "id": "43284911",
   "metadata": {},
   "outputs": [
    {
     "data": {
      "text/plain": [
       "[<matplotlib.lines.Line2D at 0x219fd213850>]"
      ]
     },
     "execution_count": 18,
     "metadata": {},
     "output_type": "execute_result"
    },
    {
     "data": {
      "image/png": "[encoded data removed]",
      "text/plain": [
       "<Figure size 864x432 with 1 Axes>"
      ]
     },
     "metadata": {
      "needs_background": "light"
     },
     "output_type": "display_data"
    }
   ],
   "source": [
    "plt.figure(figsize=(12,6))\n",
    "plt.plot(df.Close,'b')\n",
    "plt.plot(ma100,'r')\n",
    "plt.plot(ma200)"
   ]
  },
  {
   "cell_type": "code",
   "execution_count": 19,
   "id": "08482c24",
   "metadata": {},
   "outputs": [
    {
     "data": {
      "text/plain": [
       "(5306, 5)"
      ]
     },
     "execution_count": 19,
     "metadata": {},
     "output_type": "execute_result"
    }
   ],
   "source": [
    "df.shape\n"
   ]
  },
  {
   "cell_type": "code",
   "execution_count": 24,
   "id": "44dae469",
   "metadata": {},
   "outputs": [
    {
     "name": "stdout",
     "output_type": "stream",
     "text": [
      "(4244, 1)\n",
      "(1062, 1)\n"
     ]
    }
   ],
   "source": [
    "# splitting data into training and testing \n",
    " \n",
    "data_train= pd.DataFrame(df['Close'][0:int(len(df)*0.80)])\n",
    "data_test= pd.DataFrame(df['Close'][int(len(df)*0.80):int(len(df))])   \n",
    "print(data_train.shape)\n",
    "print(data_test.shape)\n",
    "                                        "
   ]
  },
  {
   "cell_type": "code",
   "execution_count": 36,
   "id": "44966fdd",
   "metadata": {},
   "outputs": [],
   "source": [
    "from sklearn.preprocessing import MinMaxScaler\n",
    "scaler = MinMaxScaler(feature_range=(0,1))"
   ]
  },
  {
   "cell_type": "code",
   "execution_count": 39,
   "id": "8e8f563b",
   "metadata": {},
   "outputs": [
    {
     "data": {
      "text/plain": [
       "array([[7.15082557e-04],\n",
       "       [1.32627622e-03],\n",
       "       [1.60640872e-03],\n",
       "       ...,\n",
       "       [9.97946408e-01],\n",
       "       [9.91044029e-01],\n",
       "       [9.87050957e-01]])"
      ]
     },
     "execution_count": 39,
     "metadata": {},
     "output_type": "execute_result"
    }
   ],
   "source": [
    "data_train_array=scaler.fit_transform(data_train) \n",
    "data_train_array"
   ]
  },
  {
   "cell_type": "code",
   "execution_count": 50,
   "id": "b5f602d1",
   "metadata": {},
   "outputs": [],
   "source": [
    "x_train=[]\n",
    "y_train=[]\n",
    "\n",
    "for i in range(100,data_train_array.shape[0]):\n",
    "     x_train.append(data_train_array[i-100:i])\n",
    "     y_train.append(data_train_array[i,0])\n",
    "        \n",
    "x_train , y_train= np.array(x_train),np.array(y_train)"
   ]
  },
  {
   "cell_type": "code",
   "execution_count": 43,
   "id": "9b88f1d9",
   "metadata": {},
   "outputs": [],
   "source": [
    "## ML model\n"
   ]
  },
  {
   "cell_type": "code",
   "execution_count": 51,
   "id": "147de410",
   "metadata": {},
   "outputs": [
    {
     "data": {
      "text/plain": [
       "(4144, 100, 1)"
      ]
     },
     "execution_count": 51,
     "metadata": {},
     "output_type": "execute_result"
    }
   ],
   "source": [
    "x_train.shape"
   ]
  },
  {
   "cell_type": "code",
   "execution_count": 45,
   "id": "f28dc0b0",
   "metadata": {},
   "outputs": [],
   "source": [
    "from keras.layers import Dense, Dropout, LSTM\n",
    "from keras.models import Sequential"
   ]
  },
  {
   "cell_type": "code",
   "execution_count": 54,
   "id": "707da890",
   "metadata": {},
   "outputs": [],
   "source": [
    "model = Sequential()\n",
    "model.add(LSTM(units=50 , activation='relu' , return_sequences= True, input_shape= (x_train.shape[1],1)))\n",
    "model.add(Dropout(0.2))\n",
    "\n",
    "model.add(LSTM(units=60 , activation='relu' , return_sequences= True))\n",
    "model.add(Dropout(0.3))\n",
    "\n",
    "model.add(LSTM(units=80 , activation='relu' , return_sequences= True))\n",
    "model.add(Dropout(0.4))\n",
    "\n",
    "model.add(LSTM(units=120, activation='relu'))\n",
    "model.add(Dropout(0.5))\n",
    "\n",
    "model.add(Dense(units=1))"
   ]
  },
  {
   "cell_type": "code",
   "execution_count": 55,
   "id": "01d9b10d",
   "metadata": {},
   "outputs": [
    {
     "name": "stdout",
     "output_type": "stream",
     "text": [
      "Model: \"sequential_3\"\n",
      "_________________________________________________________________\n",
      "Layer (type)                 Output Shape              Param #   \n",
      "=================================================================\n",
      "lstm (LSTM)                  (None, 100, 50)           10400     \n",
      "_________________________________________________________________\n",
      "dropout (Dropout)            (None, 100, 50)           0         \n",
      "_________________________________________________________________\n",
      "lstm_1 (LSTM)                (None, 100, 60)           26640     \n",
      "_________________________________________________________________\n",
      "dropout_1 (Dropout)          (None, 100, 60)           0         \n",
      "_________________________________________________________________\n",
      "lstm_2 (LSTM)                (None, 100, 80)           45120     \n",
      "_________________________________________________________________\n",
      "dropout_2 (Dropout)          (None, 100, 80)           0         \n",
      "_________________________________________________________________\n",
      "lstm_3 (LSTM)                (None, 120)               96480     \n",
      "_________________________________________________________________\n",
      "dropout_3 (Dropout)          (None, 120)               0         \n",
      "_________________________________________________________________\n",
      "dense (Dense)                (None, 1)                 121       \n",
      "=================================================================\n",
      "Total params: 178,761\n",
      "Trainable params: 178,761\n",
      "Non-trainable params: 0\n",
      "_________________________________________________________________\n"
     ]
    }
   ],
   "source": [
    "model.summary()"
   ]
  },
  {
   "cell_type": "code",
   "execution_count": 58,
   "id": "d49dae04",
   "metadata": {},
   "outputs": [
    {
     "name": "stdout",
     "output_type": "stream",
     "text": [
      "Epoch 1/50\n",
      "130/130 [==============================] - 49s 306ms/step - loss: 0.0165\n",
      "Epoch 2/50\n",
      "130/130 [==============================] - 36s 277ms/step - loss: 0.0039\n",
      "Epoch 3/50\n",
      "130/130 [==============================] - 36s 278ms/step - loss: 0.0042\n",
      "Epoch 4/50\n",
      "130/130 [==============================] - 36s 278ms/step - loss: 0.0034\n",
      "Epoch 5/50\n",
      "130/130 [==============================] - 36s 279ms/step - loss: 0.0030\n",
      "Epoch 6/50\n",
      "130/130 [==============================] - 37s 281ms/step - loss: 0.0025\n",
      "Epoch 7/50\n",
      "130/130 [==============================] - 34s 265ms/step - loss: 0.0027\n",
      "Epoch 8/50\n",
      "130/130 [==============================] - 32s 245ms/step - loss: 0.0025\n",
      "Epoch 9/50\n",
      "130/130 [==============================] - 32s 248ms/step - loss: 0.0027\n",
      "Epoch 10/50\n",
      "130/130 [==============================] - 32s 245ms/step - loss: 0.0024\n",
      "Epoch 11/50\n",
      "130/130 [==============================] - 32s 246ms/step - loss: 0.0022\n",
      "Epoch 12/50\n",
      "130/130 [==============================] - 32s 246ms/step - loss: 0.0022\n",
      "Epoch 13/50\n",
      "130/130 [==============================] - 32s 245ms/step - loss: 0.0023\n",
      "Epoch 14/50\n",
      "130/130 [==============================] - 32s 247ms/step - loss: 0.0023\n",
      "Epoch 15/50\n",
      "130/130 [==============================] - 33s 252ms/step - loss: 0.0020\n",
      "Epoch 16/50\n",
      "130/130 [==============================] - 36s 277ms/step - loss: 0.0020\n",
      "Epoch 17/50\n",
      "130/130 [==============================] - 34s 259ms/step - loss: 0.0021\n",
      "Epoch 18/50\n",
      "130/130 [==============================] - 34s 264ms/step - loss: 0.0021\n",
      "Epoch 19/50\n",
      "130/130 [==============================] - 34s 262ms/step - loss: 0.0019\n",
      "Epoch 20/50\n",
      "130/130 [==============================] - 38s 293ms/step - loss: 0.0020\n",
      "Epoch 21/50\n",
      "130/130 [==============================] - 42s 327ms/step - loss: 0.0020\n",
      "Epoch 22/50\n",
      "130/130 [==============================] - 44s 342ms/step - loss: 0.0019\n",
      "Epoch 23/50\n",
      "130/130 [==============================] - 51s 395ms/step - loss: 0.0020\n",
      "Epoch 24/50\n",
      "130/130 [==============================] - 43s 328ms/step - loss: 0.0020\n",
      "Epoch 25/50\n",
      "130/130 [==============================] - 33s 251ms/step - loss: 0.0019\n",
      "Epoch 26/50\n",
      "130/130 [==============================] - 39s 299ms/step - loss: 0.0020\n",
      "Epoch 27/50\n",
      "130/130 [==============================] - 32s 247ms/step - loss: 0.0019\n",
      "Epoch 28/50\n",
      "130/130 [==============================] - 34s 264ms/step - loss: 0.0018\n",
      "Epoch 29/50\n",
      "130/130 [==============================] - 34s 261ms/step - loss: 0.0019\n",
      "Epoch 30/50\n",
      "130/130 [==============================] - 33s 255ms/step - loss: 0.0021\n",
      "Epoch 31/50\n",
      "130/130 [==============================] - 40s 307ms/step - loss: 0.0019\n",
      "Epoch 32/50\n",
      "130/130 [==============================] - 35s 270ms/step - loss: 0.0018\n",
      "Epoch 33/50\n",
      "130/130 [==============================] - 33s 257ms/step - loss: 0.0019\n",
      "Epoch 34/50\n",
      "130/130 [==============================] - 35s 270ms/step - loss: 0.0018\n",
      "Epoch 35/50\n",
      "130/130 [==============================] - 36s 274ms/step - loss: 0.0018\n",
      "Epoch 36/50\n",
      "130/130 [==============================] - 33s 256ms/step - loss: 0.0018\n",
      "Epoch 37/50\n",
      "130/130 [==============================] - 33s 255ms/step - loss: 0.0018\n",
      "Epoch 38/50\n",
      "130/130 [==============================] - 32s 249ms/step - loss: 0.0019\n",
      "Epoch 39/50\n",
      "130/130 [==============================] - 32s 250ms/step - loss: 0.0018\n",
      "Epoch 40/50\n",
      "130/130 [==============================] - 32s 243ms/step - loss: 0.0018\n",
      "Epoch 41/50\n",
      "130/130 [==============================] - 32s 246ms/step - loss: 0.0018\n",
      "Epoch 42/50\n",
      "130/130 [==============================] - 32s 250ms/step - loss: 0.0018\n",
      "Epoch 43/50\n",
      "130/130 [==============================] - 33s 250ms/step - loss: 0.0019\n",
      "Epoch 44/50\n",
      "130/130 [==============================] - 32s 244ms/step - loss: 0.0018\n",
      "Epoch 45/50\n",
      "130/130 [==============================] - 33s 250ms/step - loss: 0.0018\n",
      "Epoch 46/50\n",
      "130/130 [==============================] - 32s 243ms/step - loss: 0.0017\n",
      "Epoch 47/50\n",
      "130/130 [==============================] - 32s 243ms/step - loss: 0.0018\n",
      "Epoch 48/50\n",
      "130/130 [==============================] - 31s 242ms/step - loss: 0.0018\n",
      "Epoch 49/50\n",
      "130/130 [==============================] - 31s 242ms/step - loss: 0.0018\n",
      "Epoch 50/50\n",
      "130/130 [==============================] - 34s 260ms/step - loss: 0.0019\n"
     ]
    },
    {
     "data": {
      "text/plain": [
       "<keras.callbacks.History at 0x2199c27bf70>"
      ]
     },
     "execution_count": 58,
     "metadata": {},
     "output_type": "execute_result"
    }
   ],
   "source": [
    "model.compile(optimizer='adam' , loss=\"mean_squared_error\")\n",
    "model.fit(x_train,y_train,epochs=50)"
   ]
  },
  {
   "cell_type": "code",
   "execution_count": 59,
   "id": "d20c2d40",
   "metadata": {},
   "outputs": [],
   "source": [
    "model.save('Stackapp.h5')"
   ]
  },
  {
   "cell_type": "code",
   "execution_count": 60,
   "id": "fac41825",
   "metadata": {},
   "outputs": [
    {
     "data": {
      "text/html": [
       "<div>\n",
       "<style scoped>\n",
       "    .dataframe tbody tr th:only-of-type {\n",
       "        vertical-align: middle;\n",
       "    }\n",
       "\n",
       "    .dataframe tbody tr th {\n",
       "        vertical-align: top;\n",
       "    }\n",
       "\n",
       "    .dataframe thead th {\n",
       "        text-align: right;\n",
       "    }\n",
       "</style>\n",
       "<table border=\"1\" class=\"dataframe\">\n",
       "  <thead>\n",
       "    <tr style=\"text-align: right;\">\n",
       "      <th></th>\n",
       "      <th>Close</th>\n",
       "    </tr>\n",
       "  </thead>\n",
       "  <tbody>\n",
       "    <tr>\n",
       "      <th>0</th>\n",
       "      <td>36.570000</td>\n",
       "    </tr>\n",
       "    <tr>\n",
       "      <th>1</th>\n",
       "      <td>36.455002</td>\n",
       "    </tr>\n",
       "    <tr>\n",
       "      <th>2</th>\n",
       "      <td>35.932499</td>\n",
       "    </tr>\n",
       "    <tr>\n",
       "      <th>3</th>\n",
       "      <td>36.457500</td>\n",
       "    </tr>\n",
       "    <tr>\n",
       "      <th>4</th>\n",
       "      <td>35.919998</td>\n",
       "    </tr>\n",
       "  </tbody>\n",
       "</table>\n",
       "</div>"
      ],
      "text/plain": [
       "       Close\n",
       "0  36.570000\n",
       "1  36.455002\n",
       "2  35.932499\n",
       "3  36.457500\n",
       "4  35.919998"
      ]
     },
     "execution_count": 60,
     "metadata": {},
     "output_type": "execute_result"
    }
   ],
   "source": [
    "past_100_days= data_train.tail(100)\n",
    "\n",
    "final_df=past_100_days.append(data_test,ignore_index=True)\n",
    "\n",
    "final_df.head()"
   ]
  },
  {
   "cell_type": "code",
   "execution_count": 62,
   "id": "bafcf613",
   "metadata": {},
   "outputs": [
    {
     "data": {
      "text/plain": [
       "array([[0.0069813 ],\n",
       "       [0.00619613],\n",
       "       [0.00262865],\n",
       "       ...,\n",
       "       [0.95063586],\n",
       "       [0.94947516],\n",
       "       [0.95787319]])"
      ]
     },
     "execution_count": 62,
     "metadata": {},
     "output_type": "execute_result"
    }
   ],
   "source": [
    "actual_data=scaler.fit_transform(final_df)\n",
    "actual_data"
   ]
  },
  {
   "cell_type": "code",
   "execution_count": 63,
   "id": "7fa4d34e",
   "metadata": {},
   "outputs": [
    {
     "data": {
      "text/plain": [
       "(1162, 1)"
      ]
     },
     "execution_count": 63,
     "metadata": {},
     "output_type": "execute_result"
    }
   ],
   "source": [
    "actual_data.shape\n"
   ]
  },
  {
   "cell_type": "code",
   "execution_count": 66,
   "id": "0f2ebb4e",
   "metadata": {},
   "outputs": [],
   "source": [
    "x_test=[]\n",
    "y_test=[]\n",
    "\n",
    "for i in range(100,actual_data.shape[0]):\n",
    "        x_test.append(actual_data[i-100:i])\n",
    "        y_test.append(actual_data[i,0])\n",
    "        \n",
    "x_test, y_test=np.array(x_test),np.array(y_test)\n",
    "    "
   ]
  },
  {
   "cell_type": "code",
   "execution_count": 68,
   "id": "3e68aa61",
   "metadata": {},
   "outputs": [
    {
     "name": "stdout",
     "output_type": "stream",
     "text": [
      "(1062, 100, 1)\n",
      "(1062,)\n"
     ]
    }
   ],
   "source": [
    "print(x_test.shape)\n",
    "print(y_test.shape)"
   ]
  },
  {
   "cell_type": "code",
   "execution_count": 69,
   "id": "c23d851a",
   "metadata": {},
   "outputs": [],
   "source": [
    "## Making prediction"
   ]
  },
  {
   "cell_type": "code",
   "execution_count": 70,
   "id": "7ab945ee",
   "metadata": {},
   "outputs": [],
   "source": [
    "y_predict =model.predict(x_test)"
   ]
  },
  {
   "cell_type": "code",
   "execution_count": 71,
   "id": "a2019949",
   "metadata": {},
   "outputs": [
    {
     "data": {
      "text/plain": [
       "(1062, 1)"
      ]
     },
     "execution_count": 71,
     "metadata": {},
     "output_type": "execute_result"
    }
   ],
   "source": [
    "y_predict.shape"
   ]
  },
  {
   "cell_type": "code",
   "execution_count": 72,
   "id": "46d303e6",
   "metadata": {},
   "outputs": [
    {
     "data": {
      "text/plain": [
       "array([0.00682769])"
      ]
     },
     "execution_count": 72,
     "metadata": {},
     "output_type": "execute_result"
    }
   ],
   "source": [
    "scaler.scale_"
   ]
  },
  {
   "cell_type": "code",
   "execution_count": 73,
   "id": "56f28d1b",
   "metadata": {},
   "outputs": [],
   "source": [
    "scale_factor=1/0.00682769\n",
    "y_predict = scale_factor*y_predict\n",
    "y_test=scale_factor*y_test"
   ]
  },
  {
   "cell_type": "code",
   "execution_count": 75,
   "id": "54e912b7",
   "metadata": {},
   "outputs": [
    {
     "data": {
      "image/png": "[encoded data removed]",
      "text/plain": [
       "<Figure size 864x432 with 1 Axes>"
      ]
     },
     "metadata": {
      "needs_background": "light"
     },
     "output_type": "display_data"
    }
   ],
   "source": [
    "plt.figure(figsize=(12,6))\n",
    "plt.plot(y_test,'b', label='Original Price')\n",
    "plt.plot(y_predict,'r',label='Predicted Price')\n",
    "plt.xlabel('Time')\n",
    "plt.ylabel('Price')\n",
    "plt.legend()\n",
    "plt.show()"
   ]
  },
  {
   "cell_type": "code",
   "execution_count": null,
   "id": "57905715",
   "metadata": {},
   "outputs": [],
   "source": []
  }
 ],
 "metadata": {
  "kernelspec": {
   "display_name": "Python 3 (ipykernel)",
   "language": "python",
   "name": "python3"
  },
  "language_info": {
   "codemirror_mode": {
    "name": "ipython",
    "version": 3
   },
   "file_extension": ".py",
   "mimetype": "text/x-python",
   "name": "python",
   "nbconvert_exporter": "python",
   "pygments_lexer": "ipython3",
   "version": "3.9.1"
  }
 },
 "nbformat": 4,
 "nbformat_minor": 5
}
